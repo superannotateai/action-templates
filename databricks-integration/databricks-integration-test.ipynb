{
 "cells": [
  {
   "cell_type": "code",
   "execution_count": null,
   "id": "4e1f81f1-ce63-43b6-8f56-f679d6ef70a8",
   "metadata": {},
   "outputs": [],
   "source": [
    "from action.app import handler"
   ]
  },
  {
   "cell_type": "code",
   "execution_count": null,
   "id": "e3f464da-890a-48f3-99de-f4f2cbf00bec",
   "metadata": {},
   "outputs": [],
   "source": [
    "mock_context = {\n",
    "    \"items\": [<item_id>],\n",
    "    \"ts_ms\": 1713561504615.6099,\n",
    "    \"team_id\": <team_id>,\n",
    "    \"user_id\": \"<user_id>\",\n",
    "    \"project_id\": <project_id>\n",
    "}\n",
    "mock_event = {\n",
    "    'uuid': 2133139,\n",
    "    'event': 'Explore',\n",
    "    'pipeline_id': 1395,\n",
    "    'sa_component_ids': 'prompt_id, category, prompt, answer, rating',\n",
    "    'databricks_columns': 'prompt_id, category, prompt, answer, rating',\n",
    "    'db_server_hostname': '<db_server_hostname>',\n",
    "    'db_http_path': '<db_http_path>',\n",
    "    'db_catalog': '<db_catalog>',\n",
    "    'db_schema': '<db_schema>',\n",
    "    'db_table': '<db_table>',\n",
    "    'db_volume': '<db_volume>',\n",
    "    'create_delta_table': 'True'\n",
    "}\n",
    "\n",
    "import os\n",
    "os.environ['DB_ACCESS_TOKEN'] = \"<db_access_token>\"\n",
    "os.environ['SA_TEAM_TOKEN'] = \"<sa_team_token>\"\n",
    "\n",
    "handler(mock_event, mock_context)"
   ]
  },
  {
   "cell_type": "code",
   "execution_count": null,
   "id": "7123247b-66db-4351-b0ce-c8f1fbf255a7",
   "metadata": {},
   "outputs": [],
   "source": []
  }
 ],
 "metadata": {
  "kernelspec": {
   "display_name": "Python 3 (ipykernel)",
   "language": "python",
   "name": "python3"
  },
  "language_info": {
   "codemirror_mode": {
    "name": "ipython",
    "version": 3
   },
   "file_extension": ".py",
   "mimetype": "text/x-python",
   "name": "python",
   "nbconvert_exporter": "python",
   "pygments_lexer": "ipython3",
   "version": "3.10.13"
  }
 },
 "nbformat": 4,
 "nbformat_minor": 5
}
